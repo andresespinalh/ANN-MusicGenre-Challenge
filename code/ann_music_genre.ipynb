{
 "cells": [
  {
   "cell_type": "code",
   "execution_count": 2,
   "metadata": {},
   "outputs": [],
   "source": [
    "import torch\n",
    "import matplotlib.pyplot as plt\n",
    "import torch.nn as nn\n",
    "import pandas as pd\n",
    "from ydata_profiling import ProfileReport"
   ]
  },
  {
   "cell_type": "markdown",
   "metadata": {},
   "source": [
    "### Exploratory Data Analysis"
   ]
  },
  {
   "cell_type": "code",
   "execution_count": null,
   "metadata": {},
   "outputs": [],
   "source": [
    "df_songs = pd.read_csv(r'../data/data.csv')\n",
    "profile = ProfileReport(df_songs, title=\"Pandas Profiling Report\")\n",
    "profile.to_widgets()"
   ]
  },
  {
   "cell_type": "markdown",
   "metadata": {},
   "source": [
    "### Data Pre-Processing"
   ]
  },
  {
   "cell_type": "code",
   "execution_count": 68,
   "metadata": {},
   "outputs": [],
   "source": [
    "\n",
    "# Drop useless columns (High Cardinality)\n",
    "df_songs = df_songs.drop(['Artist Name', 'Track Name'], axis=1)\n",
    "\n",
    "# Fill empty values in 'popularity' with the mean\n",
    "df_songs['Popularity'] = df_songs['Popularity'].fillna(df_songs['Popularity'].mean())\n",
    "df_songs['key'] = df_songs['key'].fillna(df_songs['key'].mode()[0])\n",
    "df_songs['instrumentalness'] = df_songs['instrumentalness'].fillna(df_songs['instrumentalness'].mean())\n",
    "\n",
    "# Normalization\n",
    "df_norm = df_songs[['Popularity', 'danceability', 'energy', 'loudness', 'speechiness', 'acousticness', 'instrumentalness', 'liveness', 'valence', 'tempo', 'duration_in min/ms']]\n",
    "mean_norm = df_norm.mean()\n",
    "std_norm = df_norm.std()\n",
    "df_norm = (df_norm-mean_norm) / std_norm\n",
    "\n",
    "# Categorical Features\n",
    "df_categorical = df_songs[['key', 'mode', 'time_signature', 'Class']]\n",
    "\n",
    "# Put everything together\n",
    "df_preprocessed = df_norm.merge(df_categorical, how='inner', left_index=True, right_index=True)"
   ]
  },
  {
   "attachments": {},
   "cell_type": "markdown",
   "metadata": {},
   "source": [
    "### Artificial Neural Network Modelling"
   ]
  }
 ],
 "metadata": {
  "kernelspec": {
   "display_name": "py-dudlcourse",
   "language": "python",
   "name": "python3"
  },
  "language_info": {
   "codemirror_mode": {
    "name": "ipython",
    "version": 3
   },
   "file_extension": ".py",
   "mimetype": "text/x-python",
   "name": "python",
   "nbconvert_exporter": "python",
   "pygments_lexer": "ipython3",
   "version": "3.9.16"
  },
  "orig_nbformat": 4
 },
 "nbformat": 4,
 "nbformat_minor": 2
}
